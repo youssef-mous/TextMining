{
 "cells": [
  {
   "cell_type": "code",
   "execution_count": 1,
   "id": "bfe66dda",
   "metadata": {},
   "outputs": [
    {
     "name": "stdout",
     "output_type": "stream",
     "text": [
      "Collecting pytrends\n",
      "  Obtaining dependency information for pytrends from https://files.pythonhosted.org/packages/68/ba/7a24a3723c790000faf880505ff1cc46f4d29f46dd353037938a070c4d23/pytrends-4.9.2-py3-none-any.whl.metadata\n",
      "  Downloading pytrends-4.9.2-py3-none-any.whl.metadata (13 kB)\n",
      "Requirement already satisfied: requests>=2.0 in c:\\users\\moussaid\\anaconda3\\lib\\site-packages (from pytrends) (2.31.0)\n",
      "Requirement already satisfied: pandas>=0.25 in c:\\users\\moussaid\\anaconda3\\lib\\site-packages (from pytrends) (2.1.1)\n",
      "Requirement already satisfied: lxml in c:\\users\\moussaid\\anaconda3\\lib\\site-packages (from pytrends) (4.9.3)\n",
      "Requirement already satisfied: numpy>=1.23.2 in c:\\users\\moussaid\\anaconda3\\lib\\site-packages (from pandas>=0.25->pytrends) (1.24.3)\n",
      "Requirement already satisfied: python-dateutil>=2.8.2 in c:\\users\\moussaid\\anaconda3\\lib\\site-packages (from pandas>=0.25->pytrends) (2.8.2)\n",
      "Requirement already satisfied: pytz>=2020.1 in c:\\users\\moussaid\\anaconda3\\lib\\site-packages (from pandas>=0.25->pytrends) (2023.3.post1)\n",
      "Requirement already satisfied: tzdata>=2022.1 in c:\\users\\moussaid\\anaconda3\\lib\\site-packages (from pandas>=0.25->pytrends) (2023.3)\n",
      "Requirement already satisfied: charset-normalizer<4,>=2 in c:\\users\\moussaid\\anaconda3\\lib\\site-packages (from requests>=2.0->pytrends) (2.0.4)\n",
      "Requirement already satisfied: idna<4,>=2.5 in c:\\users\\moussaid\\anaconda3\\lib\\site-packages (from requests>=2.0->pytrends) (3.4)\n",
      "Requirement already satisfied: urllib3<3,>=1.21.1 in c:\\users\\moussaid\\anaconda3\\lib\\site-packages (from requests>=2.0->pytrends) (2.2.1)\n",
      "Requirement already satisfied: certifi>=2017.4.17 in c:\\users\\moussaid\\anaconda3\\lib\\site-packages (from requests>=2.0->pytrends) (2023.7.22)\n",
      "Requirement already satisfied: six>=1.5 in c:\\users\\moussaid\\anaconda3\\lib\\site-packages (from python-dateutil>=2.8.2->pandas>=0.25->pytrends) (1.16.0)\n",
      "Downloading pytrends-4.9.2-py3-none-any.whl (15 kB)\n",
      "Installing collected packages: pytrends\n",
      "Successfully installed pytrends-4.9.2\n",
      "Note: you may need to restart the kernel to use updated packages.\n"
     ]
    }
   ],
   "source": [
    "pip install pytrends"
   ]
  },
  {
   "cell_type": "code",
   "execution_count": 3,
   "id": "9f5a2ce0",
   "metadata": {},
   "outputs": [],
   "source": [
    "from pytrends.request import TrendReq\n",
    "\n",
    "# Initialiser Pytrends\n",
    "pytrends = TrendReq(hl='fr', tz=360)  # 'fr' pour le français, fuseau horaire GMT+1\n"
   ]
  },
  {
   "cell_type": "code",
   "execution_count": 4,
   "id": "904cba9f",
   "metadata": {},
   "outputs": [],
   "source": [
    "# Liste de mots-clés\n",
    "keywords = ['Fake News', 'Théories du complot', 'Désinformation']\n"
   ]
  },
  {
   "cell_type": "code",
   "execution_count": 5,
   "id": "6727f3ee",
   "metadata": {},
   "outputs": [],
   "source": [
    "# Construire la requête\n",
    "pytrends.build_payload(\n",
    "    kw_list=keywords,  # Mots-clés\n",
    "    cat=0,  # Catégorie 0 = Toutes les catégories\n",
    "    timeframe='today 12-m',  # Période : Derniers 12 mois\n",
    "    geo='FR',  # Région : France\n",
    "    gprop=''  # Propriété : Recherche web (vide par défaut)\n",
    ")\n"
   ]
  },
  {
   "cell_type": "code",
   "execution_count": 6,
   "id": "975f99e9",
   "metadata": {},
   "outputs": [
    {
     "ename": "TooManyRequestsError",
     "evalue": "The request failed: Google returned a response with code 429",
     "output_type": "error",
     "traceback": [
      "\u001b[1;31m---------------------------------------------------------------------------\u001b[0m",
      "\u001b[1;31mTooManyRequestsError\u001b[0m                      Traceback (most recent call last)",
      "Cell \u001b[1;32mIn[6], line 2\u001b[0m\n\u001b[0;32m      1\u001b[0m \u001b[38;5;66;03m# Tendances temporelles\u001b[39;00m\n\u001b[1;32m----> 2\u001b[0m interest_over_time \u001b[38;5;241m=\u001b[39m pytrends\u001b[38;5;241m.\u001b[39minterest_over_time()\n\u001b[0;32m      3\u001b[0m \u001b[38;5;28mprint\u001b[39m(interest_over_time)\n",
      "File \u001b[1;32m~\\anaconda3\\Lib\\site-packages\\pytrends\\request.py:232\u001b[0m, in \u001b[0;36mTrendReq.interest_over_time\u001b[1;34m(self)\u001b[0m\n\u001b[0;32m    224\u001b[0m over_time_payload \u001b[38;5;241m=\u001b[39m {\n\u001b[0;32m    225\u001b[0m     \u001b[38;5;66;03m# convert to string as requests will mangle\u001b[39;00m\n\u001b[0;32m    226\u001b[0m     \u001b[38;5;124m'\u001b[39m\u001b[38;5;124mreq\u001b[39m\u001b[38;5;124m'\u001b[39m: json\u001b[38;5;241m.\u001b[39mdumps(\u001b[38;5;28mself\u001b[39m\u001b[38;5;241m.\u001b[39minterest_over_time_widget[\u001b[38;5;124m'\u001b[39m\u001b[38;5;124mrequest\u001b[39m\u001b[38;5;124m'\u001b[39m]),\n\u001b[0;32m    227\u001b[0m     \u001b[38;5;124m'\u001b[39m\u001b[38;5;124mtoken\u001b[39m\u001b[38;5;124m'\u001b[39m: \u001b[38;5;28mself\u001b[39m\u001b[38;5;241m.\u001b[39minterest_over_time_widget[\u001b[38;5;124m'\u001b[39m\u001b[38;5;124mtoken\u001b[39m\u001b[38;5;124m'\u001b[39m],\n\u001b[0;32m    228\u001b[0m     \u001b[38;5;124m'\u001b[39m\u001b[38;5;124mtz\u001b[39m\u001b[38;5;124m'\u001b[39m: \u001b[38;5;28mself\u001b[39m\u001b[38;5;241m.\u001b[39mtz\n\u001b[0;32m    229\u001b[0m }\n\u001b[0;32m    231\u001b[0m \u001b[38;5;66;03m# make the request and parse the returned json\u001b[39;00m\n\u001b[1;32m--> 232\u001b[0m req_json \u001b[38;5;241m=\u001b[39m \u001b[38;5;28mself\u001b[39m\u001b[38;5;241m.\u001b[39m_get_data(\n\u001b[0;32m    233\u001b[0m     url\u001b[38;5;241m=\u001b[39mTrendReq\u001b[38;5;241m.\u001b[39mINTEREST_OVER_TIME_URL,\n\u001b[0;32m    234\u001b[0m     method\u001b[38;5;241m=\u001b[39mTrendReq\u001b[38;5;241m.\u001b[39mGET_METHOD,\n\u001b[0;32m    235\u001b[0m     trim_chars\u001b[38;5;241m=\u001b[39m\u001b[38;5;241m5\u001b[39m,\n\u001b[0;32m    236\u001b[0m     params\u001b[38;5;241m=\u001b[39mover_time_payload,\n\u001b[0;32m    237\u001b[0m )\n\u001b[0;32m    239\u001b[0m df \u001b[38;5;241m=\u001b[39m pd\u001b[38;5;241m.\u001b[39mDataFrame(req_json[\u001b[38;5;124m'\u001b[39m\u001b[38;5;124mdefault\u001b[39m\u001b[38;5;124m'\u001b[39m][\u001b[38;5;124m'\u001b[39m\u001b[38;5;124mtimelineData\u001b[39m\u001b[38;5;124m'\u001b[39m])\n\u001b[0;32m    240\u001b[0m \u001b[38;5;28;01mif\u001b[39;00m (df\u001b[38;5;241m.\u001b[39mempty):\n",
      "File \u001b[1;32m~\\anaconda3\\Lib\\site-packages\\pytrends\\request.py:159\u001b[0m, in \u001b[0;36mTrendReq._get_data\u001b[1;34m(self, url, method, trim_chars, **kwargs)\u001b[0m\n\u001b[0;32m    157\u001b[0m \u001b[38;5;28;01melse\u001b[39;00m:\n\u001b[0;32m    158\u001b[0m     \u001b[38;5;28;01mif\u001b[39;00m response\u001b[38;5;241m.\u001b[39mstatus_code \u001b[38;5;241m==\u001b[39m status_codes\u001b[38;5;241m.\u001b[39mcodes\u001b[38;5;241m.\u001b[39mtoo_many_requests:\n\u001b[1;32m--> 159\u001b[0m         \u001b[38;5;28;01mraise\u001b[39;00m exceptions\u001b[38;5;241m.\u001b[39mTooManyRequestsError\u001b[38;5;241m.\u001b[39mfrom_response(response)\n\u001b[0;32m    160\u001b[0m     \u001b[38;5;28;01mraise\u001b[39;00m exceptions\u001b[38;5;241m.\u001b[39mResponseError\u001b[38;5;241m.\u001b[39mfrom_response(response)\n",
      "\u001b[1;31mTooManyRequestsError\u001b[0m: The request failed: Google returned a response with code 429"
     ]
    }
   ],
   "source": [
    "# Tendances temporelles\n",
    "interest_over_time = pytrends.interest_over_time()\n",
    "print(interest_over_time)\n"
   ]
  },
  {
   "cell_type": "code",
   "execution_count": 7,
   "id": "5b3dd278",
   "metadata": {},
   "outputs": [
    {
     "name": "stdout",
     "output_type": "stream",
     "text": [
      "Trop de requêtes. Tentative 1/3. Pause de 2 minutes...\n",
      "Trop de requêtes. Tentative 2/3. Pause de 2 minutes...\n",
      "Trop de requêtes. Tentative 3/3. Pause de 2 minutes...\n",
      "Échec après 3 tentatives pour ['Fake News'].\n",
      "Trop de requêtes. Tentative 1/3. Pause de 2 minutes...\n",
      "Trop de requêtes. Tentative 2/3. Pause de 2 minutes...\n",
      "Trop de requêtes. Tentative 3/3. Pause de 2 minutes...\n",
      "Échec après 3 tentatives pour ['Théories du complot'].\n",
      "Trop de requêtes. Tentative 1/3. Pause de 2 minutes...\n",
      "Trop de requêtes. Tentative 2/3. Pause de 2 minutes...\n",
      "Trop de requêtes. Tentative 3/3. Pause de 2 minutes...\n",
      "Échec après 3 tentatives pour ['Désinformation'].\n",
      "Aucune donnée récupérée.\n"
     ]
    }
   ],
   "source": [
    "from pytrends.request import TrendReq\n",
    "from pytrends.exceptions import TooManyRequestsError\n",
    "import time\n",
    "\n",
    "# Initialiser Pytrends avec des en-têtes personnalisés\n",
    "pytrends = TrendReq(\n",
    "    hl='fr',  # Langue française\n",
    "    tz=360,  # Fuseau horaire (GMT+1)\n",
    "    requests_args={\n",
    "        'headers': {\n",
    "            'User-Agent': 'Mozilla/5.0 (Windows NT 10.0; Win64; x64) AppleWebKit/537.36 (KHTML, like Gecko) Chrome/91.0.4472.124 Safari/537.36'\n",
    "        }\n",
    "    }\n",
    ")\n",
    "\n",
    "# Liste de mots-clés\n",
    "keywords_list = [['Fake News'], ['Théories du complot'], ['Désinformation']]\n",
    "\n",
    "# Fonction pour gérer les requêtes et éviter les blocages\n",
    "def fetch_trends(keywords, retries=3):\n",
    "    \"\"\"\n",
    "    Récupère les données de tendances pour un ensemble de mots-clés\n",
    "    en gérant les erreurs et les limitations.\n",
    "    \"\"\"\n",
    "    for attempt in range(retries):\n",
    "        try:\n",
    "            # Construire la requête\n",
    "            pytrends.build_payload(\n",
    "                kw_list=keywords,\n",
    "                cat=0,  # Toutes catégories\n",
    "                timeframe='today 12-m',  # Derniers 12 mois\n",
    "                geo='FR',  # France\n",
    "                gprop=''  # Recherche web\n",
    "            )\n",
    "            # Extraire les tendances temporelles\n",
    "            interest_over_time = pytrends.interest_over_time()\n",
    "            if not interest_over_time.empty:\n",
    "                print(f\"Tendances récupérées pour {keywords}:\")\n",
    "                print(interest_over_time)\n",
    "                return interest_over_time\n",
    "            else:\n",
    "                print(f\"Aucune donnée pour {keywords}.\")\n",
    "                return None\n",
    "        except TooManyRequestsError:\n",
    "            print(f\"Trop de requêtes. Tentative {attempt + 1}/{retries}. Pause de 2 minutes...\")\n",
    "            time.sleep(120)  # Pause de 2 minutes avant de réessayer\n",
    "        except Exception as e:\n",
    "            print(f\"Erreur inattendue : {e}\")\n",
    "            break\n",
    "    print(f\"Échec après {retries} tentatives pour {keywords}.\")\n",
    "    return None\n",
    "\n",
    "# Parcourir la liste des mots-clés et récupérer les données\n",
    "all_trends = []\n",
    "for keywords in keywords_list:\n",
    "    trends = fetch_trends(keywords)\n",
    "    if trends is not None:\n",
    "        all_trends.append(trends)\n",
    "    time.sleep(30)  # Pause de 30 secondes entre chaque mot-clé\n",
    "\n",
    "# Exporter les données combinées en CSV\n",
    "import pandas as pd\n",
    "if all_trends:\n",
    "    combined_data = pd.concat(all_trends, axis=1)\n",
    "    combined_data.to_csv('tendances_google_trends.csv', index=True)\n",
    "    print(\"Données exportées dans 'tendances_google_trends.csv'.\")\n",
    "else:\n",
    "    print(\"Aucune donnée récupérée.\")\n"
   ]
  },
  {
   "cell_type": "code",
   "execution_count": null,
   "id": "68f9b451",
   "metadata": {},
   "outputs": [],
   "source": []
  }
 ],
 "metadata": {
  "kernelspec": {
   "display_name": "Python 3 (ipykernel)",
   "language": "python",
   "name": "python3"
  },
  "language_info": {
   "codemirror_mode": {
    "name": "ipython",
    "version": 3
   },
   "file_extension": ".py",
   "mimetype": "text/x-python",
   "name": "python",
   "nbconvert_exporter": "python",
   "pygments_lexer": "ipython3",
   "version": "3.11.5"
  }
 },
 "nbformat": 4,
 "nbformat_minor": 5
}
